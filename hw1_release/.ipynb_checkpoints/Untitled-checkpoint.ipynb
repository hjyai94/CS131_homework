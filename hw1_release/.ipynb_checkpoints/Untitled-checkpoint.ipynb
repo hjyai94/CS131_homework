{
 "cells": [
  {
   "cell_type": "code",
   "execution_count": 26,
   "metadata": {},
   "outputs": [
    {
     "name": "stdout",
     "output_type": "stream",
     "text": [
      "[[1 2 3]\n",
      " [4 5 6]\n",
      " [7 8 9]]\n",
      "[[7 8 9]\n",
      " [4 5 6]\n",
      " [1 2 3]]\n",
      "[[9 8 7]\n",
      " [6 5 4]\n",
      " [3 2 1]]\n",
      "-1\n",
      "0\n",
      "1\n",
      "[[1]]\n",
      "2.5\n"
     ]
    }
   ],
   "source": [
    "import numpy as np \n",
    "A = np.array([[1, 2, 3], [4, 5, 6], [7, 8, 9]])\n",
    "print(A)\n",
    "B = np.flip(A, axis=0)\n",
    "print(B)\n",
    "C = np.flip(B, axis=1)\n",
    "print(C)\n",
    "for i in range(-1, 2):\n",
    "    print(i)\n",
    "\n",
    "B = np.array([[1, 2], [3, 4]])\n",
    "print(B[0:-1, 0:-1])\n",
    "print(np.mean(B))"
   ]
  },
  {
   "cell_type": "code",
   "execution_count": 27,
   "metadata": {},
   "outputs": [
    {
     "name": "stdout",
     "output_type": "stream",
     "text": [
      "3.2162698412698414\n"
     ]
    }
   ],
   "source": [
    "print(1621/(7*8*9))"
   ]
  },
  {
   "cell_type": "code",
   "execution_count": 34,
   "metadata": {},
   "outputs": [
    {
     "name": "stdout",
     "output_type": "stream",
     "text": [
      "<built-in method argmax of numpy.ndarray object at 0x000000000757F940>\n",
      "(2, 2)\n",
      "(2, 2)\n",
      "1 1\n"
     ]
    }
   ],
   "source": [
    "print(B.argmax)\n",
    "print(B.shape)\n",
    "y,x = (np.unravel_index(B.argmax(), B.shape))\n",
    "print(y, x)"
   ]
  },
  {
   "cell_type": "code",
   "execution_count": 36,
   "metadata": {},
   "outputs": [],
   "source": [
    "a = 1\n",
    "assert a == 1, \"Even dimensions for filters is not allowed!\""
   ]
  },
  {
   "cell_type": "code",
   "execution_count": 37,
   "metadata": {},
   "outputs": [
    {
     "name": "stdout",
     "output_type": "stream",
     "text": [
      "[[ 9 10]\n",
      " [18 20]\n",
      " [27 30]\n",
      " [36 40]]\n"
     ]
    }
   ],
   "source": [
    "x = np.array([[1, 2], [3, 4]])\n",
    "v = np.array([9, 10])\n",
    "print(np.outer(x, v))"
   ]
  },
  {
   "cell_type": "code",
   "execution_count": 44,
   "metadata": {},
   "outputs": [
    {
     "name": "stdout",
     "output_type": "stream",
     "text": [
      "[[ 1  4  6  4  1]\n",
      " [ 4 16 24 16  4]\n",
      " [ 6 24 36 24  6]\n",
      " [ 4 16 24 16  4]\n",
      " [ 1  4  6  4  1]]\n"
     ]
    }
   ],
   "source": [
    "k1 = np.array([[1], [4], [6], [4], [1]])\n",
    "k2 = np.array([1, 4, 6, 4, 1])\n",
    "print(k1 * k2)"
   ]
  },
  {
   "cell_type": "code",
   "execution_count": null,
   "metadata": {
    "collapsed": true
   },
   "outputs": [],
   "source": []
  }
 ],
 "metadata": {
  "kernelspec": {
   "display_name": "Python 3",
   "language": "python",
   "name": "python3"
  },
  "language_info": {
   "codemirror_mode": {
    "name": "ipython",
    "version": 3
   },
   "file_extension": ".py",
   "mimetype": "text/x-python",
   "name": "python",
   "nbconvert_exporter": "python",
   "pygments_lexer": "ipython3",
   "version": "3.6.3"
  }
 },
 "nbformat": 4,
 "nbformat_minor": 2
}
